{
 "cells": [
  {
   "cell_type": "code",
   "execution_count": null,
   "metadata": {},
   "outputs": [],
   "source": [
    "import pandas as pd\n",
    "import pickle as pkl"
   ]
  },
  {
   "cell_type": "code",
   "execution_count": null,
   "metadata": {},
   "outputs": [],
   "source": [
    "df_subset = pd.read_csv('recipe_w_images.csv')\n",
    "apriori_rules = pd.read_csv('recipe_mix.csv')\n",
    "with open('cosine-similarities.pkl', 'rb') as f:\n",
    "    cosine_sim3 = pkl.load(f) # deserialize using load()"
   ]
  },
  {
   "cell_type": "code",
   "execution_count": null,
   "metadata": {},
   "outputs": [],
   "source": [
    "# Store cosine similarities pickle\n",
    "with open('./df_subset.pkl', 'wb') as f:\n",
    "    pkl.dump(df_subset, f)"
   ]
  },
  {
   "cell_type": "code",
   "execution_count": null,
   "metadata": {},
   "outputs": [],
   "source": [
    "# pickle apriori rule csv\n",
    "with open('./apriori-rules.pkl', 'wb') as f:\n",
    "    pkl.dump(apriori_rules, f)\n",
    "\n",
    "# add method to update apriori rules and resave csv + pickle"
   ]
  },
  {
   "cell_type": "code",
   "execution_count": null,
   "metadata": {},
   "outputs": [],
   "source": [
    "# list of all recipe ids\n",
    "ids = list(df_subset['id'])\n",
    "\n",
    "# list to be used for column headers for cosine similarity dataframe\n",
    "similarity_df = ['index'] + ids\n",
    "\n",
    "# create cosine similarity pickle file\n",
    "cosine_similarity_df = pd.DataFrame(columns = similarity_df)\n",
    "\n",
    "for i in range (1,len(ids)):\n",
    "    \n",
    "    # Populate info for new row\n",
    "    row = [similarity_df[i]] + list(cosine_sim3[i-1])\n",
    "\n",
    "    # Insert the new row into the DataFrame\n",
    "    cosine_similarity_df.loc[len(cosine_similarity_df)] = row\n",
    "\n",
    "cosine_similarity_df.head()"
   ]
  },
  {
   "cell_type": "code",
   "execution_count": null,
   "metadata": {},
   "outputs": [],
   "source": [
    "# top 30 for each recipe\n",
    "top_30_cosine_similarity = ['id']\n",
    "for i in range(1,31):\n",
    "    top_30_cosine_similarity.append(f\"id_{i}\")\n",
    "    top_30_cosine_similarity.append(f\"score_{i}\")\n",
    "\n",
    "top_30_cosine_similarity_df = pd.DataFrame(columns = top_30_cosine_similarity)\n",
    "# top_30_cosine_similarity_df.head()\n",
    "\n",
    "\n",
    "#compile the top 30 recipes for each \n",
    "val = 0\n",
    "for i in ids:\n",
    "    print(val)\n",
    "    val += 1\n",
    "    cosine_similarity_df = cosine_similarity_df.sort_values(by=i, ascending=False)\n",
    "\n",
    "    values = [i]\n",
    "\n",
    "    \n",
    "    for j in range(1,31):\n",
    "\n",
    "        \n",
    "\n",
    "        values.append(int(list(cosine_similarity_df['index'])[j]))\n",
    "        values.append(list(cosine_similarity_df[i])[j])\n",
    "\n",
    "    top_30_cosine_similarity_df.loc[len(top_30_cosine_similarity_df)] = values\n",
    "\n",
    "    \n",
    "top_30_cosine_similarity_df.head()"
   ]
  },
  {
   "cell_type": "code",
   "execution_count": null,
   "metadata": {},
   "outputs": [],
   "source": [
    "# Store cosine similarities pickle\n",
    "with open('./top_30_cosine_similarity.pkl', 'wb') as f:\n",
    "    pkl.dump(top_30_cosine_similarity_df, f)"
   ]
  }
 ],
 "metadata": {
  "language_info": {
   "name": "python"
  }
 },
 "nbformat": 4,
 "nbformat_minor": 2
}
