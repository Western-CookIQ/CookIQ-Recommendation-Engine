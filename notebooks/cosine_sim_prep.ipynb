{
 "cells": [
  {
   "cell_type": "markdown",
   "metadata": {},
   "source": [
    "Prepare consine similarity table"
   ]
  },
  {
   "cell_type": "code",
   "execution_count": null,
   "metadata": {},
   "outputs": [],
   "source": [
    "import pandas as pd\n",
    "import pickle as pkl\n",
    "from sklearn.feature_extraction.text import TfidfVectorizer\n",
    "from sklearn.metrics.pairwise import linear_kernel"
   ]
  },
  {
   "cell_type": "code",
   "execution_count": null,
   "metadata": {},
   "outputs": [],
   "source": [
    "df_subset = pd.read_csv('recipe_w_images.csv')"
   ]
  },
  {
   "cell_type": "markdown",
   "metadata": {},
   "source": [
    "## Cosine Similarity Pickle"
   ]
  },
  {
   "cell_type": "code",
   "execution_count": null,
   "metadata": {},
   "outputs": [],
   "source": [
    "# Create a TfidfVectorizer and Remove stopwords\n",
    "tfidf1 = TfidfVectorizer(stop_words='english')\n",
    "# Fit and transform the data to a tfidf matrix\n",
    "tfidf_matrix1 = tfidf1.fit_transform(df_subset['ingredients'])\n",
    "# Print the shape of the tfidf_matrix\n",
    "tfidf_matrix1.shape"
   ]
  },
  {
   "cell_type": "code",
   "execution_count": null,
   "metadata": {},
   "outputs": [],
   "source": [
    "ids = list(df_subset['id'])"
   ]
  },
  {
   "cell_type": "code",
   "execution_count": null,
   "metadata": {},
   "outputs": [],
   "source": [
    "# Compute the cosine similarity between each meal's ingredients\n",
    "cosine_sim1 = linear_kernel(tfidf_matrix1, tfidf_matrix1)"
   ]
  },
  {
   "cell_type": "code",
   "execution_count": null,
   "metadata": {},
   "outputs": [],
   "source": [
    "# Create a TfidfVectorizer and Remove stopwords\n",
    "tfidf2 = TfidfVectorizer(stop_words='english')\n",
    "# Fit and transform the data to a tfidf matrix\n",
    "tfidf_matrix2 = tfidf2.fit_transform(df_subset['name'])\n",
    "# Print the shape of the tfidf_matrix\n",
    "tfidf_matrix2.shape"
   ]
  },
  {
   "cell_type": "code",
   "execution_count": null,
   "metadata": {},
   "outputs": [],
   "source": [
    "# Compute the cosine similarity between each meal's name\n",
    "cosine_sim2 = linear_kernel(tfidf_matrix2, tfidf_matrix2)"
   ]
  },
  {
   "cell_type": "code",
   "execution_count": null,
   "metadata": {},
   "outputs": [],
   "source": [
    "# Combine the two matrices for a combined output (weighing the ingredients in the dish more heavily than the name of it)\n",
    "cosine_sim3 = cosine_sim1*0.7 + cosine_sim2*0.3"
   ]
  },
  {
   "cell_type": "code",
   "execution_count": null,
   "metadata": {},
   "outputs": [],
   "source": [
    "cosine_sim3.shape"
   ]
  },
  {
   "cell_type": "code",
   "execution_count": null,
   "metadata": {},
   "outputs": [],
   "source": [
    "import pickle as pkl\n",
    "\n",
    "# Store cosine similarities pickle\n",
    "with open('./cosine-similarities.pkl', 'wb') as f:\n",
    "    pkl.dump(cosine_sim3, f)"
   ]
  },
  {
   "cell_type": "markdown",
   "metadata": {},
   "source": [
    "## Top 30 Cosine Similarity Pickle"
   ]
  },
  {
   "cell_type": "code",
   "execution_count": null,
   "metadata": {},
   "outputs": [],
   "source": [
    "# list of all recipe ids\n",
    "ids = list(df_subset['id'])\n",
    "\n",
    "# list to be used for column headers for cosine similarity dataframe\n",
    "similarity_df = ['index'] + ids\n",
    "\n",
    "# create cosine similarity pickle file\n",
    "cosine_similarity_df = pd.DataFrame(columns = similarity_df)\n",
    "\n",
    "for i in range (1,len(ids)):\n",
    "    \n",
    "    # Populate info for new row\n",
    "    row = [similarity_df[i]] + list(cosine_sim3[i-1])\n",
    "\n",
    "    # Insert the new row into the DataFrame\n",
    "    cosine_similarity_df.loc[len(cosine_similarity_df)] = row\n",
    "\n",
    "cosine_similarity_df.head()"
   ]
  },
  {
   "cell_type": "code",
   "execution_count": null,
   "metadata": {},
   "outputs": [],
   "source": [
    "# top 30 for each recipe\n",
    "top_30_cosine_similarity = ['id']\n",
    "for i in range(1,31):\n",
    "    top_30_cosine_similarity.append(f\"id_{i}\")\n",
    "    top_30_cosine_similarity.append(f\"score_{i}\")\n",
    "\n",
    "top_30_cosine_similarity_df = pd.DataFrame(columns = top_30_cosine_similarity)\n",
    "# top_30_cosine_similarity_df.head()\n",
    "\n",
    "\n",
    "#compile the top 30 recipes for each \n",
    "val = 0\n",
    "for i in ids:\n",
    "    print(val)\n",
    "    val += 1\n",
    "    cosine_similarity_df = cosine_similarity_df.sort_values(by=i, ascending=False)\n",
    "\n",
    "    values = [i]\n",
    "\n",
    "    \n",
    "    for j in range(1,31):\n",
    "\n",
    "        \n",
    "\n",
    "        values.append(int(list(cosine_similarity_df['index'])[j]))\n",
    "        values.append(list(cosine_similarity_df[i])[j])\n",
    "\n",
    "    top_30_cosine_similarity_df.loc[len(top_30_cosine_similarity_df)] = values\n",
    "\n",
    "    \n",
    "top_30_cosine_similarity_df.head()"
   ]
  },
  {
   "cell_type": "code",
   "execution_count": null,
   "metadata": {},
   "outputs": [],
   "source": [
    "# Store cosine similarities pickle\n",
    "with open('./top_30_cosine_similarity.pkl', 'wb') as f:\n",
    "    pkl.dump(top_30_cosine_similarity_df, f)"
   ]
  }
 ],
 "metadata": {
  "language_info": {
   "name": "python"
  }
 },
 "nbformat": 4,
 "nbformat_minor": 2
}
