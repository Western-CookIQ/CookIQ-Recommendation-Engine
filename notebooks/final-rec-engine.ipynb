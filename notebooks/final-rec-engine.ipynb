{
  "cells": [
    {
      "cell_type": "markdown",
      "metadata": {},
      "source": [
        "Combined Recommendation Engine"
      ]
    },
    {
      "cell_type": "code",
      "execution_count": 35,
      "metadata": {},
      "outputs": [],
      "source": [
        "import pandas as pd\n",
        "import pickle as pkl"
      ]
    },
    {
      "cell_type": "code",
      "execution_count": 61,
      "metadata": {},
      "outputs": [],
      "source": [
        "df_subset = pd.read_csv('recipe_w_images.csv')\n",
        "apriori_rules = pd.read_csv('recipe_mix.csv')"
      ]
    },
    {
      "cell_type": "code",
      "execution_count": 37,
      "metadata": {},
      "outputs": [],
      "source": [
        "#dummy data\n",
        "\n",
        "user_rated_recipes = {5856:2, 5991:4, 2004:5}"
      ]
    },
    {
      "cell_type": "code",
      "execution_count": null,
      "metadata": {},
      "outputs": [],
      "source": [
        "recipe_rules = list(apriori_rules['Base Product'].unique())"
      ]
    },
    {
      "cell_type": "code",
      "execution_count": 38,
      "metadata": {},
      "outputs": [],
      "source": [
        "def recommendation_engine(user_rated_recipes):\n",
        "    for k, v in user_rated_recipes.items(): \n",
        "        if not v < 3:\n",
        "            print(k, '>', v)\n",
        "\n"
      ]
    },
    {
      "cell_type": "code",
      "execution_count": 39,
      "metadata": {},
      "outputs": [
        {
          "name": "stdout",
          "output_type": "stream",
          "text": [
            "5991 > 4\n",
            "2004 > 5\n"
          ]
        }
      ],
      "source": [
        "recommendation_engine(user_rated_recipes)"
      ]
    },
    {
      "cell_type": "code",
      "execution_count": 40,
      "metadata": {},
      "outputs": [],
      "source": [
        "with open('cosine-similarities.pkl', 'rb') as f:\n",
        "\n",
        "    cosine_sim3 = pkl.load(f) # deserialize using load()"
      ]
    },
    {
      "cell_type": "code",
      "execution_count": 41,
      "metadata": {},
      "outputs": [],
      "source": [
        "def get_recommendations(title, cosine_sim=cosine_sim3, num_recommend = 10):\n",
        "    indices = pd.Series(df_subset.index, index=df_subset['name']).drop_duplicates()\n",
        "    idx = indices[title]\n",
        "    # Get the pairwsie similarity scores of all movies with that movie\n",
        "    sim_scores = list(enumerate(cosine_sim[idx]))\n",
        "    # Sort the movies based on the similarity scores\n",
        "    sim_scores = sorted(sim_scores, key=lambda x: x[1], reverse=True)\n",
        "    # Get the scores of the 10 most similar movies\n",
        "    top_similar = sim_scores[1:num_recommend+1]\n",
        "\n",
        "    # Get the recipe indices and corresponding recipe similarity score\n",
        "    recipe_indices = [i[0] for i in top_similar]\n",
        "    recipe_similarity_scores = [i[1] for i in top_similar]\n",
        "\n",
        "    recommendations_df = df_subset['name'].iloc[recipe_indices].to_frame().reset_index()\n",
        "    recommendations_df['score'] = recipe_similarity_scores\n",
        "\n",
        "# Return the top 10 most similar recipes\n",
        "    return recommendations_df"
      ]
    },
    {
      "cell_type": "code",
      "execution_count": 42,
      "metadata": {},
      "outputs": [
        {
          "data": {
            "text/html": [
              "<div>\n",
              "<style scoped>\n",
              "    .dataframe tbody tr th:only-of-type {\n",
              "        vertical-align: middle;\n",
              "    }\n",
              "\n",
              "    .dataframe tbody tr th {\n",
              "        vertical-align: top;\n",
              "    }\n",
              "\n",
              "    .dataframe thead th {\n",
              "        text-align: right;\n",
              "    }\n",
              "</style>\n",
              "<table border=\"1\" class=\"dataframe\">\n",
              "  <thead>\n",
              "    <tr style=\"text-align: right;\">\n",
              "      <th></th>\n",
              "      <th>index</th>\n",
              "      <th>name</th>\n",
              "      <th>score</th>\n",
              "    </tr>\n",
              "  </thead>\n",
              "  <tbody>\n",
              "    <tr>\n",
              "      <th>0</th>\n",
              "      <td>5856</td>\n",
              "      <td>gluten free gingerbread cake</td>\n",
              "      <td>0.526627</td>\n",
              "    </tr>\n",
              "    <tr>\n",
              "      <th>1</th>\n",
              "      <td>5991</td>\n",
              "      <td>gingerbread spice blend</td>\n",
              "      <td>0.425138</td>\n",
              "    </tr>\n",
              "    <tr>\n",
              "      <th>2</th>\n",
              "      <td>5983</td>\n",
              "      <td>tartine s soft glazed gingerbread</td>\n",
              "      <td>0.413226</td>\n",
              "    </tr>\n",
              "    <tr>\n",
              "      <th>3</th>\n",
              "      <td>2004</td>\n",
              "      <td>gingerbread smoothie</td>\n",
              "      <td>0.400864</td>\n",
              "    </tr>\n",
              "    <tr>\n",
              "      <th>4</th>\n",
              "      <td>2670</td>\n",
              "      <td>pumpkin gingerbread w  caramel sauce</td>\n",
              "      <td>0.400677</td>\n",
              "    </tr>\n",
              "    <tr>\n",
              "      <th>5</th>\n",
              "      <td>4646</td>\n",
              "      <td>homemade brown sugar</td>\n",
              "      <td>0.336926</td>\n",
              "    </tr>\n",
              "    <tr>\n",
              "      <th>6</th>\n",
              "      <td>1281</td>\n",
              "      <td>ginger snaps</td>\n",
              "      <td>0.327445</td>\n",
              "    </tr>\n",
              "    <tr>\n",
              "      <th>7</th>\n",
              "      <td>5891</td>\n",
              "      <td>crunchy gingerbread cookies</td>\n",
              "      <td>0.324020</td>\n",
              "    </tr>\n",
              "    <tr>\n",
              "      <th>8</th>\n",
              "      <td>7079</td>\n",
              "      <td>applesauce apple butter</td>\n",
              "      <td>0.320176</td>\n",
              "    </tr>\n",
              "    <tr>\n",
              "      <th>9</th>\n",
              "      <td>7455</td>\n",
              "      <td>cardamom ginger crunch</td>\n",
              "      <td>0.317110</td>\n",
              "    </tr>\n",
              "  </tbody>\n",
              "</table>\n",
              "</div>"
            ],
            "text/plain": [
              "   index                                  name     score\n",
              "0   5856          gluten free gingerbread cake  0.526627\n",
              "1   5991               gingerbread spice blend  0.425138\n",
              "2   5983     tartine s soft glazed gingerbread  0.413226\n",
              "3   2004                  gingerbread smoothie  0.400864\n",
              "4   2670  pumpkin gingerbread w  caramel sauce  0.400677\n",
              "5   4646                  homemade brown sugar  0.336926\n",
              "6   1281                          ginger snaps  0.327445\n",
              "7   5891           crunchy gingerbread cookies  0.324020\n",
              "8   7079               applesauce apple butter  0.320176\n",
              "9   7455                cardamom ginger crunch  0.317110"
            ]
          },
          "execution_count": 42,
          "metadata": {},
          "output_type": "execute_result"
        }
      ],
      "source": [
        "get_recommendations('moist gingerbread cake')  "
      ]
    }
  ],
  "metadata": {
    "colab": {
      "provenance": [],
      "toc_visible": true
    },
    "kernelspec": {
      "display_name": "Python 3",
      "name": "python3"
    },
    "language_info": {
      "codemirror_mode": {
        "name": "ipython",
        "version": 3
      },
      "file_extension": ".py",
      "mimetype": "text/x-python",
      "name": "python",
      "nbconvert_exporter": "python",
      "pygments_lexer": "ipython3",
      "version": "3.9.6"
    }
  },
  "nbformat": 4,
  "nbformat_minor": 0
}
