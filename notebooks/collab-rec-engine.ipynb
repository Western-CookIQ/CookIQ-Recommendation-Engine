{
  "cells": [
    {
      "cell_type": "code",
      "execution_count": 1,
      "metadata": {},
      "outputs": [
        {
          "name": "stdout",
          "output_type": "stream",
          "text": [
            "Requirement already satisfied: pandas in /Users/joshrabovsky/opt/anaconda3/envs/myenv/lib/python3.9/site-packages (1.4.4)\n",
            "Requirement already satisfied: python-dateutil>=2.8.1 in /Users/joshrabovsky/opt/anaconda3/envs/myenv/lib/python3.9/site-packages (from pandas) (2.8.2)\n",
            "Requirement already satisfied: pytz>=2020.1 in /Users/joshrabovsky/opt/anaconda3/envs/myenv/lib/python3.9/site-packages (from pandas) (2022.1)\n",
            "Requirement already satisfied: numpy>=1.18.5 in /Users/joshrabovsky/opt/anaconda3/envs/myenv/lib/python3.9/site-packages (from pandas) (1.23.3)\n",
            "Requirement already satisfied: six>=1.5 in /Users/joshrabovsky/opt/anaconda3/envs/myenv/lib/python3.9/site-packages (from python-dateutil>=2.8.1->pandas) (1.16.0)\n",
            "Requirement already satisfied: scikit-learn in /Users/joshrabovsky/opt/anaconda3/envs/myenv/lib/python3.9/site-packages (1.3.2)\n",
            "Requirement already satisfied: scipy in /Users/joshrabovsky/opt/anaconda3/envs/myenv/lib/python3.9/site-packages (1.11.4)\n",
            "Requirement already satisfied: matplotlib in /Users/joshrabovsky/opt/anaconda3/envs/myenv/lib/python3.9/site-packages (3.8.2)\n",
            "Requirement already satisfied: numpy<2.0,>=1.17.3 in /Users/joshrabovsky/opt/anaconda3/envs/myenv/lib/python3.9/site-packages (from scikit-learn) (1.23.3)\n",
            "Requirement already satisfied: threadpoolctl>=2.0.0 in /Users/joshrabovsky/opt/anaconda3/envs/myenv/lib/python3.9/site-packages (from scikit-learn) (3.2.0)\n",
            "Requirement already satisfied: joblib>=1.1.1 in /Users/joshrabovsky/opt/anaconda3/envs/myenv/lib/python3.9/site-packages (from scikit-learn) (1.3.2)\n",
            "Requirement already satisfied: kiwisolver>=1.3.1 in /Users/joshrabovsky/opt/anaconda3/envs/myenv/lib/python3.9/site-packages (from matplotlib) (1.4.2)\n",
            "Requirement already satisfied: packaging>=20.0 in /Users/joshrabovsky/opt/anaconda3/envs/myenv/lib/python3.9/site-packages (from matplotlib) (21.3)\n",
            "Requirement already satisfied: pillow>=8 in /Users/joshrabovsky/opt/anaconda3/envs/myenv/lib/python3.9/site-packages (from matplotlib) (9.2.0)\n",
            "Requirement already satisfied: python-dateutil>=2.7 in /Users/joshrabovsky/opt/anaconda3/envs/myenv/lib/python3.9/site-packages (from matplotlib) (2.8.2)\n",
            "Requirement already satisfied: pyparsing>=2.3.1 in /Users/joshrabovsky/opt/anaconda3/envs/myenv/lib/python3.9/site-packages (from matplotlib) (3.0.9)\n",
            "Requirement already satisfied: importlib-resources>=3.2.0 in /Users/joshrabovsky/opt/anaconda3/envs/myenv/lib/python3.9/site-packages (from matplotlib) (6.1.1)\n",
            "Requirement already satisfied: fonttools>=4.22.0 in /Users/joshrabovsky/opt/anaconda3/envs/myenv/lib/python3.9/site-packages (from matplotlib) (4.25.0)\n",
            "Requirement already satisfied: cycler>=0.10 in /Users/joshrabovsky/opt/anaconda3/envs/myenv/lib/python3.9/site-packages (from matplotlib) (0.11.0)\n",
            "Requirement already satisfied: contourpy>=1.0.1 in /Users/joshrabovsky/opt/anaconda3/envs/myenv/lib/python3.9/site-packages (from matplotlib) (1.2.0)\n",
            "Requirement already satisfied: zipp>=3.1.0 in /Users/joshrabovsky/opt/anaconda3/envs/myenv/lib/python3.9/site-packages (from importlib-resources>=3.2.0->matplotlib) (3.17.0)\n",
            "Requirement already satisfied: six>=1.5 in /Users/joshrabovsky/opt/anaconda3/envs/myenv/lib/python3.9/site-packages (from python-dateutil>=2.7->matplotlib) (1.16.0)\n",
            "Requirement already satisfied: scikit-learn in /Users/joshrabovsky/opt/anaconda3/envs/myenv/lib/python3.9/site-packages (1.3.2)\n",
            "Requirement already satisfied: threadpoolctl>=2.0.0 in /Users/joshrabovsky/opt/anaconda3/envs/myenv/lib/python3.9/site-packages (from scikit-learn) (3.2.0)\n",
            "Requirement already satisfied: numpy<2.0,>=1.17.3 in /Users/joshrabovsky/opt/anaconda3/envs/myenv/lib/python3.9/site-packages (from scikit-learn) (1.23.3)\n",
            "Requirement already satisfied: scipy>=1.5.0 in /Users/joshrabovsky/opt/anaconda3/envs/myenv/lib/python3.9/site-packages (from scikit-learn) (1.11.4)\n",
            "Requirement already satisfied: joblib>=1.1.1 in /Users/joshrabovsky/opt/anaconda3/envs/myenv/lib/python3.9/site-packages (from scikit-learn) (1.3.2)\n"
          ]
        }
      ],
      "source": [
        "# Install libraries locally\n",
        "!pip3 install pandas\n",
        "!pip3 install -U scikit-learn scipy matplotlib\n",
        "!pip3 install scikit-learn"
      ]
    },
    {
      "cell_type": "code",
      "execution_count": 2,
      "metadata": {},
      "outputs": [],
      "source": [
        "import numpy as np\n",
        "import pandas as pd\n",
        "from sklearn.feature_extraction.text import TfidfVectorizer\n",
        "from sklearn.metrics.pairwise import linear_kernel\n",
        "import pickle as pkl"
      ]
    },
    {
      "cell_type": "code",
      "execution_count": 3,
      "metadata": {
        "id": "ocgQblKmypH_"
      },
      "outputs": [],
      "source": [
        "original_df = pd.read_csv(\"./RAW_recipes.csv\")\n",
        "df = original_df.copy()\n",
        "df['description'] = df['description'].fillna('')"
      ]
    },
    {
      "cell_type": "code",
      "execution_count": 4,
      "metadata": {
        "colab": {
          "base_uri": "https://localhost:8080/"
        },
        "id": "xQ4saJqSy6E1",
        "outputId": "882269a6-087c-4edc-cc82-cdc9e72321d8"
      },
      "outputs": [
        {
          "name": "stdout",
          "output_type": "stream",
          "text": [
            "<class 'pandas.core.frame.DataFrame'>\n",
            "RangeIndex: 231637 entries, 0 to 231636\n",
            "Data columns (total 12 columns):\n",
            " #   Column          Non-Null Count   Dtype \n",
            "---  ------          --------------   ----- \n",
            " 0   name            231636 non-null  object\n",
            " 1   id              231637 non-null  int64 \n",
            " 2   minutes         231637 non-null  int64 \n",
            " 3   contributor_id  231637 non-null  int64 \n",
            " 4   submitted       231637 non-null  object\n",
            " 5   tags            231637 non-null  object\n",
            " 6   nutrition       231637 non-null  object\n",
            " 7   n_steps         231637 non-null  int64 \n",
            " 8   steps           231637 non-null  object\n",
            " 9   description     231637 non-null  object\n",
            " 10  ingredients     231637 non-null  object\n",
            " 11  n_ingredients   231637 non-null  int64 \n",
            "dtypes: int64(5), object(7)\n",
            "memory usage: 21.2+ MB\n"
          ]
        }
      ],
      "source": [
        "df.info()"
      ]
    },
    {
      "cell_type": "code",
      "execution_count": 5,
      "metadata": {
        "colab": {
          "base_uri": "https://localhost:8080/",
          "height": 484
        },
        "id": "1J8WaqLq1Bdo",
        "outputId": "9ba024a6-0d56-4da9-85f1-4fc1ae405a81"
      },
      "outputs": [
        {
          "data": {
            "text/html": [
              "<div>\n",
              "<style scoped>\n",
              "    .dataframe tbody tr th:only-of-type {\n",
              "        vertical-align: middle;\n",
              "    }\n",
              "\n",
              "    .dataframe tbody tr th {\n",
              "        vertical-align: top;\n",
              "    }\n",
              "\n",
              "    .dataframe thead th {\n",
              "        text-align: right;\n",
              "    }\n",
              "</style>\n",
              "<table border=\"1\" class=\"dataframe\">\n",
              "  <thead>\n",
              "    <tr style=\"text-align: right;\">\n",
              "      <th></th>\n",
              "      <th>name</th>\n",
              "      <th>id</th>\n",
              "      <th>minutes</th>\n",
              "      <th>contributor_id</th>\n",
              "      <th>submitted</th>\n",
              "      <th>tags</th>\n",
              "      <th>nutrition</th>\n",
              "      <th>n_steps</th>\n",
              "      <th>steps</th>\n",
              "      <th>description</th>\n",
              "      <th>ingredients</th>\n",
              "      <th>n_ingredients</th>\n",
              "    </tr>\n",
              "  </thead>\n",
              "  <tbody>\n",
              "    <tr>\n",
              "      <th>0</th>\n",
              "      <td>mini buffalo chicken cheesesteaks</td>\n",
              "      <td>537716</td>\n",
              "      <td>40</td>\n",
              "      <td>2001975627</td>\n",
              "      <td>2018-12-04</td>\n",
              "      <td>['60-minutes-or-less', 'time-to-make', 'course...</td>\n",
              "      <td>[407.9, 34.0, 21.0, 49.0, 28.0, 64.0, 12.0]</td>\n",
              "      <td>12</td>\n",
              "      <td>['heat 1 tablespoon of olive oil in a skillet ...</td>\n",
              "      <td>these party-style chicken cheesesteaks are fla...</td>\n",
              "      <td>['olive oil', 'green bell pepper', 'yellow oni...</td>\n",
              "      <td>13</td>\n",
              "    </tr>\n",
              "    <tr>\n",
              "      <th>1</th>\n",
              "      <td>nutcracker peppermint red velvet cake pops</td>\n",
              "      <td>537671</td>\n",
              "      <td>135</td>\n",
              "      <td>2002198506</td>\n",
              "      <td>2018-11-28</td>\n",
              "      <td>['time-to-make', 'course', 'preparation', 'occ...</td>\n",
              "      <td>[207.9, 12.0, 93.0, 10.0, 6.0, 8.0, 10.0]</td>\n",
              "      <td>54</td>\n",
              "      <td>['before you begin , you will need to gather t...</td>\n",
              "      <td>rich red velvet cake combines with cool pepper...</td>\n",
              "      <td>[\"devil's food cake mix\", 'eggs', 'buttermilk'...</td>\n",
              "      <td>12</td>\n",
              "    </tr>\n",
              "    <tr>\n",
              "      <th>2</th>\n",
              "      <td>moist gingerbread cake</td>\n",
              "      <td>537543</td>\n",
              "      <td>55</td>\n",
              "      <td>2001201872</td>\n",
              "      <td>2018-11-16</td>\n",
              "      <td>['60-minutes-or-less', 'time-to-make', 'course...</td>\n",
              "      <td>[1617.0, 104.0, 213.0, 8.0, 40.0, 203.0, 80.0]</td>\n",
              "      <td>8</td>\n",
              "      <td>['preheat the oven to 350&amp;deg', 'f grease a lo...</td>\n",
              "      <td>a slightly sticky loaf cake flavoured with gin...</td>\n",
              "      <td>['unsalted butter', 'applesauce', 'egg', 'unsu...</td>\n",
              "      <td>10</td>\n",
              "    </tr>\n",
              "    <tr>\n",
              "      <th>3</th>\n",
              "      <td>5 ingredient salted caramel crumble bars</td>\n",
              "      <td>537485</td>\n",
              "      <td>45</td>\n",
              "      <td>2000378667</td>\n",
              "      <td>2018-11-12</td>\n",
              "      <td>['60-minutes-or-less', 'time-to-make', 'course...</td>\n",
              "      <td>[52.8, 3.0, 0.0, 4.0, 1.0, 1.0, 2.0]</td>\n",
              "      <td>21</td>\n",
              "      <td>['1', 'heat oven to 350f spray 8-inch square p...</td>\n",
              "      <td>delicious</td>\n",
              "      <td>['pillsbury sugar cookie dough', 'caramel topp...</td>\n",
              "      <td>5</td>\n",
              "    </tr>\n",
              "    <tr>\n",
              "      <th>4</th>\n",
              "      <td>bailey s chocotini</td>\n",
              "      <td>537459</td>\n",
              "      <td>10</td>\n",
              "      <td>400708</td>\n",
              "      <td>2018-11-10</td>\n",
              "      <td>['15-minutes-or-less', 'time-to-make', 'course...</td>\n",
              "      <td>[220.7, 15.0, 49.0, 2.0, 3.0, 30.0, 4.0]</td>\n",
              "      <td>5</td>\n",
              "      <td>['to layer: add chocolate liqueur to glass', '...</td>\n",
              "      <td>a recipe that recipe complements the cocoa in ...</td>\n",
              "      <td>['baileys irish cream', 'chocolate liqueur', '...</td>\n",
              "      <td>3</td>\n",
              "    </tr>\n",
              "  </tbody>\n",
              "</table>\n",
              "</div>"
            ],
            "text/plain": [
              "                                         name      id  minutes  \\\n",
              "0           mini buffalo chicken cheesesteaks  537716       40   \n",
              "1  nutcracker peppermint red velvet cake pops  537671      135   \n",
              "2                      moist gingerbread cake  537543       55   \n",
              "3    5 ingredient salted caramel crumble bars  537485       45   \n",
              "4                          bailey s chocotini  537459       10   \n",
              "\n",
              "   contributor_id   submitted  \\\n",
              "0      2001975627  2018-12-04   \n",
              "1      2002198506  2018-11-28   \n",
              "2      2001201872  2018-11-16   \n",
              "3      2000378667  2018-11-12   \n",
              "4          400708  2018-11-10   \n",
              "\n",
              "                                                tags  \\\n",
              "0  ['60-minutes-or-less', 'time-to-make', 'course...   \n",
              "1  ['time-to-make', 'course', 'preparation', 'occ...   \n",
              "2  ['60-minutes-or-less', 'time-to-make', 'course...   \n",
              "3  ['60-minutes-or-less', 'time-to-make', 'course...   \n",
              "4  ['15-minutes-or-less', 'time-to-make', 'course...   \n",
              "\n",
              "                                        nutrition  n_steps  \\\n",
              "0     [407.9, 34.0, 21.0, 49.0, 28.0, 64.0, 12.0]       12   \n",
              "1       [207.9, 12.0, 93.0, 10.0, 6.0, 8.0, 10.0]       54   \n",
              "2  [1617.0, 104.0, 213.0, 8.0, 40.0, 203.0, 80.0]        8   \n",
              "3            [52.8, 3.0, 0.0, 4.0, 1.0, 1.0, 2.0]       21   \n",
              "4        [220.7, 15.0, 49.0, 2.0, 3.0, 30.0, 4.0]        5   \n",
              "\n",
              "                                               steps  \\\n",
              "0  ['heat 1 tablespoon of olive oil in a skillet ...   \n",
              "1  ['before you begin , you will need to gather t...   \n",
              "2  ['preheat the oven to 350&deg', 'f grease a lo...   \n",
              "3  ['1', 'heat oven to 350f spray 8-inch square p...   \n",
              "4  ['to layer: add chocolate liqueur to glass', '...   \n",
              "\n",
              "                                         description  \\\n",
              "0  these party-style chicken cheesesteaks are fla...   \n",
              "1  rich red velvet cake combines with cool pepper...   \n",
              "2  a slightly sticky loaf cake flavoured with gin...   \n",
              "3                                          delicious   \n",
              "4  a recipe that recipe complements the cocoa in ...   \n",
              "\n",
              "                                         ingredients  n_ingredients  \n",
              "0  ['olive oil', 'green bell pepper', 'yellow oni...             13  \n",
              "1  [\"devil's food cake mix\", 'eggs', 'buttermilk'...             12  \n",
              "2  ['unsalted butter', 'applesauce', 'egg', 'unsu...             10  \n",
              "3  ['pillsbury sugar cookie dough', 'caramel topp...              5  \n",
              "4  ['baileys irish cream', 'chocolate liqueur', '...              3  "
            ]
          },
          "execution_count": 5,
          "metadata": {},
          "output_type": "execute_result"
        }
      ],
      "source": [
        "# sort by date of submission and take only the first 1000 recipes for speed of model creation\n",
        "df.sort_values('submitted', inplace=True, ascending=False)\n",
        "df = df.iloc[:10000].reset_index(drop=True)\n",
        "df.head()"
      ]
    },
    {
      "cell_type": "markdown",
      "metadata": {
        "id": "H2w-E4CsYwr0"
      },
      "source": [
        "## Content Filtering"
      ]
    },
    {
      "cell_type": "code",
      "execution_count": 6,
      "metadata": {
        "colab": {
          "base_uri": "https://localhost:8080/"
        },
        "id": "4ZUaK-ThZWKZ",
        "outputId": "c4ab8878-1bfb-49c0-a0d4-180f4c4f84af"
      },
      "outputs": [
        {
          "data": {
            "text/plain": [
              "(10000, 2114)"
            ]
          },
          "execution_count": 6,
          "metadata": {},
          "output_type": "execute_result"
        }
      ],
      "source": [
        "# Create a TfidfVectorizer and Remove stopwords\n",
        "tfidf1 = TfidfVectorizer(stop_words='english')\n",
        "# Fit and transform the data to a tfidf matrix\n",
        "tfidf_matrix1 = tfidf1.fit_transform(df['ingredients'])\n",
        "# Print the shape of the tfidf_matrix\n",
        "tfidf_matrix1.shape"
      ]
    },
    {
      "cell_type": "code",
      "execution_count": 7,
      "metadata": {
        "id": "5dMgWzESZ0gU"
      },
      "outputs": [],
      "source": [
        "# Compute the cosine similarity between each meal's ingredients\n",
        "cosine_sim1 = linear_kernel(tfidf_matrix1, tfidf_matrix1)"
      ]
    },
    {
      "cell_type": "code",
      "execution_count": 9,
      "metadata": {},
      "outputs": [
        {
          "data": {
            "text/plain": [
              "(10000, 5593)"
            ]
          },
          "execution_count": 9,
          "metadata": {},
          "output_type": "execute_result"
        }
      ],
      "source": [
        "# Create a TfidfVectorizer and Remove stopwords\n",
        "tfidf2 = TfidfVectorizer(stop_words='english')\n",
        "# Fit and transform the data to a tfidf matrix\n",
        "tfidf_matrix2 = tfidf2.fit_transform(df['name'])\n",
        "# Print the shape of the tfidf_matrix\n",
        "tfidf_matrix2.shape"
      ]
    },
    {
      "cell_type": "code",
      "execution_count": 10,
      "metadata": {},
      "outputs": [],
      "source": [
        "# Compute the cosine similarity between each meal's name\n",
        "cosine_sim2 = linear_kernel(tfidf_matrix2, tfidf_matrix2)"
      ]
    },
    {
      "cell_type": "code",
      "execution_count": 11,
      "metadata": {},
      "outputs": [],
      "source": [
        "# Combine the two matrices for a combined output (weighing the ingredients in the dish more heavily than the name of it)\n",
        "cosine_sim3= cosine_sim1*0.7 + cosine_sim2*0.3"
      ]
    },
    {
      "cell_type": "code",
      "execution_count": 12,
      "metadata": {
        "colab": {
          "base_uri": "https://localhost:8080/"
        },
        "id": "xTRp3_QcaCQZ",
        "outputId": "4eafacef-5c63-4b59-9c13-06068d521ceb"
      },
      "outputs": [
        {
          "data": {
            "text/plain": [
              "name\n",
              "mini buffalo chicken cheesesteaks                                  0\n",
              "nutcracker peppermint red velvet cake pops                         1\n",
              "moist gingerbread cake                                             2\n",
              "5 ingredient salted caramel crumble bars                           3\n",
              "bailey s chocotini                                                 4\n",
              "                                                                ... \n",
              "momma jan s good for what ails ya chicken soup                  9995\n",
              "botswanan chicken groundnut stew                                9996\n",
              "how to peel a head of garlic in less than 10 seconds            9997\n",
              "mushroom and sausage bake                                       9998\n",
              "bacon   goat cheese potatoes with sundried tomato sour cream    9999\n",
              "Length: 10000, dtype: int64"
            ]
          },
          "execution_count": 12,
          "metadata": {},
          "output_type": "execute_result"
        }
      ],
      "source": [
        "indices = pd.Series(df.index, index=df['name']).drop_duplicates()\n",
        "indices"
      ]
    },
    {
      "cell_type": "code",
      "execution_count": 13,
      "metadata": {},
      "outputs": [
        {
          "data": {
            "text/plain": [
              "'mini buffalo chicken cheesesteaks'"
            ]
          },
          "execution_count": 13,
          "metadata": {},
          "output_type": "execute_result"
        }
      ],
      "source": [
        "indices_to_name = {}\n",
        "for i in indices:\n",
        "    indices_to_name[i] = df['name'].iloc[i]\n",
        "indices_to_name[0]"
      ]
    },
    {
      "cell_type": "code",
      "execution_count": 14,
      "metadata": {
        "id": "uA1wAhnBcd-p"
      },
      "outputs": [],
      "source": [
        "def get_recommendations(title, cosine_sim=cosine_sim3, num_recommend = 10):\n",
        "    idx = indices[title]\n",
        "    # Get the pairwsie similarity scores of all movies with that movie\n",
        "    sim_scores = list(enumerate(cosine_sim[idx]))\n",
        "    # Sort the movies based on the similarity scores\n",
        "    sim_scores = sorted(sim_scores, key=lambda x: x[1], reverse=True)\n",
        "    # Get the scores of the 10 most similar movies\n",
        "    top_similar = sim_scores[1:num_recommend+1]\n",
        "\n",
        "    # Get the recipe indices and corresponding recipe similarity score\n",
        "    recipe_indices = [i[0] for i in top_similar]\n",
        "    recipe_similarity_scores = [i[1] for i in top_similar]\n",
        "\n",
        "    recommendations_df = df['name'].iloc[recipe_indices].to_frame().reset_index()\n",
        "    recommendations_df['score'] = recipe_similarity_scores\n",
        "\n",
        "# Return the top 10 most similar recipes\n",
        "    return recommendations_df"
      ]
    },
    {
      "cell_type": "code",
      "execution_count": 15,
      "metadata": {
        "colab": {
          "base_uri": "https://localhost:8080/"
        },
        "id": "jl1AIWJzcjmk",
        "outputId": "7a487fb4-15db-4705-d8b7-57f4370ab6bf"
      },
      "outputs": [
        {
          "data": {
            "text/html": [
              "<div>\n",
              "<style scoped>\n",
              "    .dataframe tbody tr th:only-of-type {\n",
              "        vertical-align: middle;\n",
              "    }\n",
              "\n",
              "    .dataframe tbody tr th {\n",
              "        vertical-align: top;\n",
              "    }\n",
              "\n",
              "    .dataframe thead th {\n",
              "        text-align: right;\n",
              "    }\n",
              "</style>\n",
              "<table border=\"1\" class=\"dataframe\">\n",
              "  <thead>\n",
              "    <tr style=\"text-align: right;\">\n",
              "      <th></th>\n",
              "      <th>index</th>\n",
              "      <th>name</th>\n",
              "      <th>score</th>\n",
              "    </tr>\n",
              "  </thead>\n",
              "  <tbody>\n",
              "    <tr>\n",
              "      <th>0</th>\n",
              "      <td>5876</td>\n",
              "      <td>gluten free gingerbread cake</td>\n",
              "      <td>0.526619</td>\n",
              "    </tr>\n",
              "    <tr>\n",
              "      <th>1</th>\n",
              "      <td>6013</td>\n",
              "      <td>gingerbread spice blend</td>\n",
              "      <td>0.425092</td>\n",
              "    </tr>\n",
              "    <tr>\n",
              "      <th>2</th>\n",
              "      <td>6005</td>\n",
              "      <td>tartine s soft glazed gingerbread</td>\n",
              "      <td>0.413173</td>\n",
              "    </tr>\n",
              "    <tr>\n",
              "      <th>3</th>\n",
              "      <td>2015</td>\n",
              "      <td>gingerbread smoothie</td>\n",
              "      <td>0.401514</td>\n",
              "    </tr>\n",
              "    <tr>\n",
              "      <th>4</th>\n",
              "      <td>2683</td>\n",
              "      <td>pumpkin gingerbread w  caramel sauce</td>\n",
              "      <td>0.400659</td>\n",
              "    </tr>\n",
              "    <tr>\n",
              "      <th>5</th>\n",
              "      <td>4662</td>\n",
              "      <td>homemade brown sugar</td>\n",
              "      <td>0.337018</td>\n",
              "    </tr>\n",
              "    <tr>\n",
              "      <th>6</th>\n",
              "      <td>1286</td>\n",
              "      <td>ginger snaps</td>\n",
              "      <td>0.327362</td>\n",
              "    </tr>\n",
              "    <tr>\n",
              "      <th>7</th>\n",
              "      <td>5912</td>\n",
              "      <td>crunchy gingerbread cookies</td>\n",
              "      <td>0.324023</td>\n",
              "    </tr>\n",
              "    <tr>\n",
              "      <th>8</th>\n",
              "      <td>7104</td>\n",
              "      <td>applesauce apple butter</td>\n",
              "      <td>0.320325</td>\n",
              "    </tr>\n",
              "    <tr>\n",
              "      <th>9</th>\n",
              "      <td>7482</td>\n",
              "      <td>cardamom ginger crunch</td>\n",
              "      <td>0.317083</td>\n",
              "    </tr>\n",
              "  </tbody>\n",
              "</table>\n",
              "</div>"
            ],
            "text/plain": [
              "   index                                  name     score\n",
              "0   5876          gluten free gingerbread cake  0.526619\n",
              "1   6013               gingerbread spice blend  0.425092\n",
              "2   6005     tartine s soft glazed gingerbread  0.413173\n",
              "3   2015                  gingerbread smoothie  0.401514\n",
              "4   2683  pumpkin gingerbread w  caramel sauce  0.400659\n",
              "5   4662                  homemade brown sugar  0.337018\n",
              "6   1286                          ginger snaps  0.327362\n",
              "7   5912           crunchy gingerbread cookies  0.324023\n",
              "8   7104               applesauce apple butter  0.320325\n",
              "9   7482                cardamom ginger crunch  0.317083"
            ]
          },
          "execution_count": 15,
          "metadata": {},
          "output_type": "execute_result"
        }
      ],
      "source": [
        "get_recommendations('moist gingerbread cake')  "
      ]
    },
    {
      "cell_type": "code",
      "execution_count": 16,
      "metadata": {},
      "outputs": [],
      "source": [
        "def get_index_recommendations(idx, cosine_sim=cosine_sim3, num_recommend = 10):\n",
        "    # Get the pairwsie similarity scores of all movies with that movie\n",
        "    sim_scores = list(enumerate(cosine_sim[idx]))\n",
        "    # Sort the movies based on the similarity scores\n",
        "    sim_scores = sorted(sim_scores, key=lambda x: x[1], reverse=True)\n",
        "    # Get the scores of the 10 most similar movies\n",
        "    top_similar = sim_scores[1:num_recommend+1]\n",
        "\n",
        "    # Return the top 10 most similar recipes\n",
        "    return top_similar"
      ]
    },
    {
      "cell_type": "code",
      "execution_count": 37,
      "metadata": {},
      "outputs": [
        {
          "data": {
            "text/plain": [
              "numpy.int64"
            ]
          },
          "execution_count": 37,
          "metadata": {},
          "output_type": "execute_result"
        }
      ],
      "source": [
        "type(df.iloc[0]['id'])"
      ]
    },
    {
      "cell_type": "code",
      "execution_count": 22,
      "metadata": {},
      "outputs": [],
      "source": [
        "cosine_scores = []\n",
        "for i in range(len(df)):\n",
        "    other_id = int(df.iloc[i]['id'])\n",
        "    similar_scores = get_index_recommendations(i)\n",
        "    cosine_scores.append([other_id])\n",
        "    for new_index, cosine_score in similar_scores:\n",
        "        cosine_scores[-1].append(df.iloc[new_index]['id'])\n",
        "        cosine_scores[-1].append(cosine_score)\n"
      ]
    },
    {
      "cell_type": "code",
      "execution_count": 42,
      "metadata": {},
      "outputs": [],
      "source": [
        "column_names = [\"id\"]\n",
        "for i in range(1, 11):\n",
        "    column_names.append(f\"id_{i}\")\n",
        "    column_names.append(f\"score_{i}\")\n",
        "\n",
        "cosine_scores_csv = pd.DataFrame(cosine_scores, columns=column_names)"
      ]
    },
    {
      "cell_type": "code",
      "execution_count": 43,
      "metadata": {},
      "outputs": [],
      "source": [
        "cosine_scores_csv.to_csv(\"CLEAN_cosine_scores.csv\", index=False)"
      ]
    },
    {
      "cell_type": "markdown",
      "metadata": {},
      "source": [
        "## Pickle Creation"
      ]
    },
    {
      "cell_type": "code",
      "execution_count": 19,
      "metadata": {},
      "outputs": [
        {
          "data": {
            "text/plain": [
              "numpy.ndarray"
            ]
          },
          "execution_count": 19,
          "metadata": {},
          "output_type": "execute_result"
        }
      ],
      "source": [
        "type(cosine_sim3)"
      ]
    },
    {
      "cell_type": "code",
      "execution_count": 20,
      "metadata": {},
      "outputs": [],
      "source": [
        "# Store cosine similarities pickle\n",
        "with open('../pickles/cosine-similarities.pkl', 'wb') as f:\n",
        "    pkl.dump(cosine_sim3, f)"
      ]
    },
    {
      "cell_type": "code",
      "execution_count": 21,
      "metadata": {},
      "outputs": [],
      "source": [
        "# Store cosine indices pickle\n",
        "with open('../pickles/indicies.pkl', 'wb') as f:\n",
        "    pkl.dump(indices, f)"
      ]
    },
    {
      "cell_type": "code",
      "execution_count": 22,
      "metadata": {},
      "outputs": [],
      "source": [
        "# Store cosine indices pickle\n",
        "with open('../pickles/indicies-to-name.pkl', 'wb') as f:\n",
        "    pkl.dump(indices_to_name, f)"
      ]
    },
    {
      "cell_type": "markdown",
      "metadata": {},
      "source": [
        "## Interaction Data"
      ]
    },
    {
      "cell_type": "code",
      "execution_count": 23,
      "metadata": {},
      "outputs": [],
      "source": [
        "# import interaction data\n",
        "original_interaction_df = pd.read_csv(\"RAW_interactions.csv\")\n",
        "interaction_df = original_interaction_df.copy()"
      ]
    },
    {
      "cell_type": "code",
      "execution_count": 24,
      "metadata": {},
      "outputs": [],
      "source": [
        "# create list of all recipe ids\n",
        "recipe_id_list = df[\"id\"].tolist()"
      ]
    },
    {
      "cell_type": "code",
      "execution_count": 25,
      "metadata": {},
      "outputs": [
        {
          "name": "stdout",
          "output_type": "stream",
          "text": [
            "<class 'pandas.core.frame.DataFrame'>\n",
            "Int64Index: 24432 entries, 119 to 1132340\n",
            "Data columns (total 5 columns):\n",
            " #   Column     Non-Null Count  Dtype \n",
            "---  ------     --------------  ----- \n",
            " 0   user_id    24432 non-null  int64 \n",
            " 1   recipe_id  24432 non-null  int64 \n",
            " 2   date       24432 non-null  object\n",
            " 3   rating     24432 non-null  int64 \n",
            " 4   review     24414 non-null  object\n",
            "dtypes: int64(3), object(2)\n",
            "memory usage: 1.1+ MB\n"
          ]
        }
      ],
      "source": [
        "# subselect only those interactions that are of recipes in the list created above\n",
        "interaction_df = interaction_df[interaction_df['recipe_id'].isin(recipe_id_list)]\n",
        "interaction_df.info()"
      ]
    },
    {
      "cell_type": "code",
      "execution_count": 26,
      "metadata": {},
      "outputs": [
        {
          "data": {
            "text/html": [
              "<div>\n",
              "<style scoped>\n",
              "    .dataframe tbody tr th:only-of-type {\n",
              "        vertical-align: middle;\n",
              "    }\n",
              "\n",
              "    .dataframe tbody tr th {\n",
              "        vertical-align: top;\n",
              "    }\n",
              "\n",
              "    .dataframe thead th {\n",
              "        text-align: right;\n",
              "    }\n",
              "</style>\n",
              "<table border=\"1\" class=\"dataframe\">\n",
              "  <thead>\n",
              "    <tr style=\"text-align: right;\">\n",
              "      <th></th>\n",
              "      <th>recipe_id</th>\n",
              "      <th>count</th>\n",
              "    </tr>\n",
              "  </thead>\n",
              "  <tbody>\n",
              "    <tr>\n",
              "      <th>0</th>\n",
              "      <td>486261</td>\n",
              "      <td>217</td>\n",
              "    </tr>\n",
              "    <tr>\n",
              "      <th>1</th>\n",
              "      <td>486496</td>\n",
              "      <td>202</td>\n",
              "    </tr>\n",
              "    <tr>\n",
              "      <th>2</th>\n",
              "      <td>486641</td>\n",
              "      <td>179</td>\n",
              "    </tr>\n",
              "    <tr>\n",
              "      <th>3</th>\n",
              "      <td>497021</td>\n",
              "      <td>127</td>\n",
              "    </tr>\n",
              "    <tr>\n",
              "      <th>4</th>\n",
              "      <td>495271</td>\n",
              "      <td>90</td>\n",
              "    </tr>\n",
              "  </tbody>\n",
              "</table>\n",
              "</div>"
            ],
            "text/plain": [
              "   recipe_id  count\n",
              "0     486261    217\n",
              "1     486496    202\n",
              "2     486641    179\n",
              "3     497021    127\n",
              "4     495271     90"
            ]
          },
          "execution_count": 26,
          "metadata": {},
          "output_type": "execute_result"
        }
      ],
      "source": [
        "# group reviews by the recipe they refer to, sorted from most reviewed to least\n",
        "aggregated_df = interaction_df.groupby([\"recipe_id\"]).size().sort_values(ascending=False)\n",
        "aggregated_df = aggregated_df.to_frame().reset_index().rename(columns={0: \"count\"})\n",
        "aggregated_df.head()"
      ]
    },
    {
      "cell_type": "code",
      "execution_count": 27,
      "metadata": {},
      "outputs": [
        {
          "data": {
            "text/html": [
              "<div>\n",
              "<style scoped>\n",
              "    .dataframe tbody tr th:only-of-type {\n",
              "        vertical-align: middle;\n",
              "    }\n",
              "\n",
              "    .dataframe tbody tr th {\n",
              "        vertical-align: top;\n",
              "    }\n",
              "\n",
              "    .dataframe thead th {\n",
              "        text-align: right;\n",
              "    }\n",
              "</style>\n",
              "<table border=\"1\" class=\"dataframe\">\n",
              "  <thead>\n",
              "    <tr style=\"text-align: right;\">\n",
              "      <th></th>\n",
              "      <th>name</th>\n",
              "      <th>recipe_id</th>\n",
              "      <th>count</th>\n",
              "    </tr>\n",
              "  </thead>\n",
              "  <tbody>\n",
              "    <tr>\n",
              "      <th>7053</th>\n",
              "      <td>mexican stack up  rsc</td>\n",
              "      <td>486261</td>\n",
              "      <td>217</td>\n",
              "    </tr>\n",
              "    <tr>\n",
              "      <th>7003</th>\n",
              "      <td>bacon lattice tomato muffins  rsc</td>\n",
              "      <td>486496</td>\n",
              "      <td>202</td>\n",
              "    </tr>\n",
              "    <tr>\n",
              "      <th>6967</th>\n",
              "      <td>moist   delicious banana nut bread</td>\n",
              "      <td>486641</td>\n",
              "      <td>179</td>\n",
              "    </tr>\n",
              "    <tr>\n",
              "      <th>4941</th>\n",
              "      <td>mile high cabbage pie  5fix</td>\n",
              "      <td>497021</td>\n",
              "      <td>127</td>\n",
              "    </tr>\n",
              "    <tr>\n",
              "      <th>5256</th>\n",
              "      <td>spinach and cheese stuffed chicken breast  rsc</td>\n",
              "      <td>495271</td>\n",
              "      <td>90</td>\n",
              "    </tr>\n",
              "  </tbody>\n",
              "</table>\n",
              "</div>"
            ],
            "text/plain": [
              "                                                name  recipe_id  count\n",
              "7053                           mexican stack up  rsc     486261    217\n",
              "7003               bacon lattice tomato muffins  rsc     486496    202\n",
              "6967              moist   delicious banana nut bread     486641    179\n",
              "4941                     mile high cabbage pie  5fix     497021    127\n",
              "5256  spinach and cheese stuffed chicken breast  rsc     495271     90"
            ]
          },
          "execution_count": 27,
          "metadata": {},
          "output_type": "execute_result"
        }
      ],
      "source": [
        "# merge the aggregated dataframe with recipes to get the associated name of the recipe\n",
        "combined_df = pd.merge(left=df[['id', 'name']], right=aggregated_df, left_on='id', right_on='recipe_id').sort_values(by='count',ascending=False)\n",
        "combined_df.drop(['id'], axis=1, inplace=True)\n",
        "combined_df.head()"
      ]
    },
    {
      "cell_type": "code",
      "execution_count": 28,
      "metadata": {},
      "outputs": [],
      "source": [
        "# isolate to only the top 50 most reviewed recipes \n",
        "top_50_df = combined_df.iloc[0:50]\n",
        "top_50_df.reset_index(inplace=True, drop=True)\n",
        "top_50_df.to_csv('top50recipes.csv')"
      ]
    },
    {
      "cell_type": "markdown",
      "metadata": {},
      "source": [
        "## Apriori Dataset Creation"
      ]
    },
    {
      "cell_type": "code",
      "execution_count": 29,
      "metadata": {},
      "outputs": [
        {
          "data": {
            "text/html": [
              "<div>\n",
              "<style scoped>\n",
              "    .dataframe tbody tr th:only-of-type {\n",
              "        vertical-align: middle;\n",
              "    }\n",
              "\n",
              "    .dataframe tbody tr th {\n",
              "        vertical-align: top;\n",
              "    }\n",
              "\n",
              "    .dataframe thead th {\n",
              "        text-align: right;\n",
              "    }\n",
              "</style>\n",
              "<table border=\"1\" class=\"dataframe\">\n",
              "  <thead>\n",
              "    <tr style=\"text-align: right;\">\n",
              "      <th></th>\n",
              "      <th>user_id</th>\n",
              "      <th>recipe_id</th>\n",
              "      <th>date</th>\n",
              "      <th>rating</th>\n",
              "      <th>review</th>\n",
              "    </tr>\n",
              "  </thead>\n",
              "  <tbody>\n",
              "    <tr>\n",
              "      <th>0</th>\n",
              "      <td>1535</td>\n",
              "      <td>494972</td>\n",
              "      <td>2013-05-07</td>\n",
              "      <td>4</td>\n",
              "      <td>Nice comfort food for a chilly, rainy evening....</td>\n",
              "    </tr>\n",
              "    <tr>\n",
              "      <th>1</th>\n",
              "      <td>1535</td>\n",
              "      <td>495227</td>\n",
              "      <td>2014-03-01</td>\n",
              "      <td>5</td>\n",
              "      <td>Fantastic!! I can&amp;#039;t believe no one has tr...</td>\n",
              "    </tr>\n",
              "    <tr>\n",
              "      <th>2</th>\n",
              "      <td>1535</td>\n",
              "      <td>516391</td>\n",
              "      <td>2014-10-14</td>\n",
              "      <td>5</td>\n",
              "      <td>My family LOVED these. I like the fact that th...</td>\n",
              "    </tr>\n",
              "    <tr>\n",
              "      <th>3</th>\n",
              "      <td>1535</td>\n",
              "      <td>476476</td>\n",
              "      <td>2014-12-09</td>\n",
              "      <td>4</td>\n",
              "      <td>Needed a last minute dessert and had a cake mi...</td>\n",
              "    </tr>\n",
              "    <tr>\n",
              "      <th>4</th>\n",
              "      <td>1535</td>\n",
              "      <td>499705</td>\n",
              "      <td>2015-05-21</td>\n",
              "      <td>5</td>\n",
              "      <td>Very lemony indeed!! They got rave reviews fro...</td>\n",
              "    </tr>\n",
              "  </tbody>\n",
              "</table>\n",
              "</div>"
            ],
            "text/plain": [
              "   user_id  recipe_id        date  rating  \\\n",
              "0     1535     494972  2013-05-07       4   \n",
              "1     1535     495227  2014-03-01       5   \n",
              "2     1535     516391  2014-10-14       5   \n",
              "3     1535     476476  2014-12-09       4   \n",
              "4     1535     499705  2015-05-21       5   \n",
              "\n",
              "                                              review  \n",
              "0  Nice comfort food for a chilly, rainy evening....  \n",
              "1  Fantastic!! I can&#039;t believe no one has tr...  \n",
              "2  My family LOVED these. I like the fact that th...  \n",
              "3  Needed a last minute dessert and had a cake mi...  \n",
              "4  Very lemony indeed!! They got rave reviews fro...  "
            ]
          },
          "execution_count": 29,
          "metadata": {},
          "output_type": "execute_result"
        }
      ],
      "source": [
        "# sort reviews by the user_id then the date the review was published (earliest to latest)\n",
        "apriori_prep_df = interaction_df\n",
        "apriori_prep_df.sort_values(by=['user_id', 'date'], inplace=True)\n",
        "apriori_prep_df.reset_index(drop=True, inplace=True)\n",
        "apriori_prep_df.head()"
      ]
    },
    {
      "cell_type": "code",
      "execution_count": 30,
      "metadata": {},
      "outputs": [
        {
          "data": {
            "text/html": [
              "<div>\n",
              "<style scoped>\n",
              "    .dataframe tbody tr th:only-of-type {\n",
              "        vertical-align: middle;\n",
              "    }\n",
              "\n",
              "    .dataframe tbody tr th {\n",
              "        vertical-align: top;\n",
              "    }\n",
              "\n",
              "    .dataframe thead th {\n",
              "        text-align: right;\n",
              "    }\n",
              "</style>\n",
              "<table border=\"1\" class=\"dataframe\">\n",
              "  <thead>\n",
              "    <tr style=\"text-align: right;\">\n",
              "      <th></th>\n",
              "      <th>user_id</th>\n",
              "      <th>recipe_id</th>\n",
              "      <th>date</th>\n",
              "      <th>rating</th>\n",
              "      <th>review</th>\n",
              "      <th>rating_dict</th>\n",
              "    </tr>\n",
              "  </thead>\n",
              "  <tbody>\n",
              "    <tr>\n",
              "      <th>0</th>\n",
              "      <td>1535</td>\n",
              "      <td>494972</td>\n",
              "      <td>2013-05-07</td>\n",
              "      <td>4</td>\n",
              "      <td>Nice comfort food for a chilly, rainy evening....</td>\n",
              "      <td>{'recipe_id': 494972, 'rating': 4}</td>\n",
              "    </tr>\n",
              "    <tr>\n",
              "      <th>1</th>\n",
              "      <td>1535</td>\n",
              "      <td>495227</td>\n",
              "      <td>2014-03-01</td>\n",
              "      <td>5</td>\n",
              "      <td>Fantastic!! I can&amp;#039;t believe no one has tr...</td>\n",
              "      <td>{'recipe_id': 495227, 'rating': 5}</td>\n",
              "    </tr>\n",
              "    <tr>\n",
              "      <th>2</th>\n",
              "      <td>1535</td>\n",
              "      <td>516391</td>\n",
              "      <td>2014-10-14</td>\n",
              "      <td>5</td>\n",
              "      <td>My family LOVED these. I like the fact that th...</td>\n",
              "      <td>{'recipe_id': 516391, 'rating': 5}</td>\n",
              "    </tr>\n",
              "    <tr>\n",
              "      <th>3</th>\n",
              "      <td>1535</td>\n",
              "      <td>476476</td>\n",
              "      <td>2014-12-09</td>\n",
              "      <td>4</td>\n",
              "      <td>Needed a last minute dessert and had a cake mi...</td>\n",
              "      <td>{'recipe_id': 476476, 'rating': 4}</td>\n",
              "    </tr>\n",
              "    <tr>\n",
              "      <th>4</th>\n",
              "      <td>1535</td>\n",
              "      <td>499705</td>\n",
              "      <td>2015-05-21</td>\n",
              "      <td>5</td>\n",
              "      <td>Very lemony indeed!! They got rave reviews fro...</td>\n",
              "      <td>{'recipe_id': 499705, 'rating': 5}</td>\n",
              "    </tr>\n",
              "  </tbody>\n",
              "</table>\n",
              "</div>"
            ],
            "text/plain": [
              "   user_id  recipe_id        date  rating  \\\n",
              "0     1535     494972  2013-05-07       4   \n",
              "1     1535     495227  2014-03-01       5   \n",
              "2     1535     516391  2014-10-14       5   \n",
              "3     1535     476476  2014-12-09       4   \n",
              "4     1535     499705  2015-05-21       5   \n",
              "\n",
              "                                              review  \\\n",
              "0  Nice comfort food for a chilly, rainy evening....   \n",
              "1  Fantastic!! I can&#039;t believe no one has tr...   \n",
              "2  My family LOVED these. I like the fact that th...   \n",
              "3  Needed a last minute dessert and had a cake mi...   \n",
              "4  Very lemony indeed!! They got rave reviews fro...   \n",
              "\n",
              "                          rating_dict  \n",
              "0  {'recipe_id': 494972, 'rating': 4}  \n",
              "1  {'recipe_id': 495227, 'rating': 5}  \n",
              "2  {'recipe_id': 516391, 'rating': 5}  \n",
              "3  {'recipe_id': 476476, 'rating': 4}  \n",
              "4  {'recipe_id': 499705, 'rating': 5}  "
            ]
          },
          "execution_count": 30,
          "metadata": {},
          "output_type": "execute_result"
        }
      ],
      "source": [
        "# dictionary of the recipe id and corresponding ratings a user gave \n",
        "apriori_prep_df['rating_dict'] = apriori_prep_df.apply(lambda row: {'recipe_id': row['recipe_id'], 'rating': row['rating']}, axis=1)\n",
        "apriori_prep_df.head()"
      ]
    },
    {
      "cell_type": "code",
      "execution_count": 31,
      "metadata": {},
      "outputs": [
        {
          "data": {
            "text/html": [
              "<div>\n",
              "<style scoped>\n",
              "    .dataframe tbody tr th:only-of-type {\n",
              "        vertical-align: middle;\n",
              "    }\n",
              "\n",
              "    .dataframe tbody tr th {\n",
              "        vertical-align: top;\n",
              "    }\n",
              "\n",
              "    .dataframe thead th {\n",
              "        text-align: right;\n",
              "    }\n",
              "</style>\n",
              "<table border=\"1\" class=\"dataframe\">\n",
              "  <thead>\n",
              "    <tr style=\"text-align: right;\">\n",
              "      <th></th>\n",
              "      <th>user_id</th>\n",
              "      <th>rating_dict</th>\n",
              "    </tr>\n",
              "  </thead>\n",
              "  <tbody>\n",
              "    <tr>\n",
              "      <th>0</th>\n",
              "      <td>1535</td>\n",
              "      <td>[{'recipe_id': 494972, 'rating': 4}, {'recipe_...</td>\n",
              "    </tr>\n",
              "    <tr>\n",
              "      <th>1</th>\n",
              "      <td>1676</td>\n",
              "      <td>[{'recipe_id': 490418, 'rating': 5}]</td>\n",
              "    </tr>\n",
              "    <tr>\n",
              "      <th>2</th>\n",
              "      <td>4291</td>\n",
              "      <td>[{'recipe_id': 476060, 'rating': 4}, {'recipe_...</td>\n",
              "    </tr>\n",
              "    <tr>\n",
              "      <th>3</th>\n",
              "      <td>4439</td>\n",
              "      <td>[{'recipe_id': 477675, 'rating': 5}, {'recipe_...</td>\n",
              "    </tr>\n",
              "    <tr>\n",
              "      <th>4</th>\n",
              "      <td>4740</td>\n",
              "      <td>[{'recipe_id': 500256, 'rating': 2}, {'recipe_...</td>\n",
              "    </tr>\n",
              "  </tbody>\n",
              "</table>\n",
              "</div>"
            ],
            "text/plain": [
              "   user_id                                        rating_dict\n",
              "0     1535  [{'recipe_id': 494972, 'rating': 4}, {'recipe_...\n",
              "1     1676               [{'recipe_id': 490418, 'rating': 5}]\n",
              "2     4291  [{'recipe_id': 476060, 'rating': 4}, {'recipe_...\n",
              "3     4439  [{'recipe_id': 477675, 'rating': 5}, {'recipe_...\n",
              "4     4740  [{'recipe_id': 500256, 'rating': 2}, {'recipe_..."
            ]
          },
          "execution_count": 31,
          "metadata": {},
          "output_type": "execute_result"
        }
      ],
      "source": [
        "# create a column containing all the recipe/ratings a user has ever given\n",
        "apriori_final_df = apriori_prep_df.groupby('user_id')['rating_dict'].apply(list)\n",
        "apriori_final_df = apriori_final_df.to_frame().reset_index()\n",
        "apriori_final_df.head()"
      ]
    },
    {
      "cell_type": "code",
      "execution_count": 32,
      "metadata": {},
      "outputs": [],
      "source": [
        "# save to csv for collaborative filter training\n",
        "apriori_final_df.to_csv('apriori_df.csv')"
      ]
    }
  ],
  "metadata": {
    "colab": {
      "provenance": [],
      "toc_visible": true
    },
    "kernelspec": {
      "display_name": "Python 3",
      "name": "python3"
    },
    "language_info": {
      "codemirror_mode": {
        "name": "ipython",
        "version": 3
      },
      "file_extension": ".py",
      "mimetype": "text/x-python",
      "name": "python",
      "nbconvert_exporter": "python",
      "pygments_lexer": "ipython3",
      "version": "3.9.15"
    }
  },
  "nbformat": 4,
  "nbformat_minor": 0
}
