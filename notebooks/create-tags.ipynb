{
 "cells": [
  {
   "cell_type": "code",
   "execution_count": 51,
   "metadata": {},
   "outputs": [],
   "source": [
    "import pandas as pd\n",
    "df = pd.read_csv('RAW_recipes.csv')"
   ]
  },
  {
   "cell_type": "code",
   "execution_count": 52,
   "metadata": {},
   "outputs": [
    {
     "name": "stdout",
     "output_type": "stream",
     "text": [
      "{'colombian', 'southwestern-united-states', 'cuisine', 'wedding', 'somalian', 'candy', 'soul', 'quail', 'caribbean', 'oatmeal', 'chili', 'whole-duck', 'pasta-rice-and-grains-elbow-macaroni', 'fall', 'cod', 'ham-and-bean-soup', 'duck', 'vegan', 'cabbage', 'middle-eastern-main-dish', 'blueberries', 'side-dishes', 'turkey-burgers', 'high-fiber', 'savory', 'georgian', 'mango', 'april-fools-day', 'brazilian', 'icelandic', 'beef-organ-meats', 'pies-and-tarts', 'omelets-and-frittatas', 'mixer', 'tempeh', 'cauliflower', 'peruvian', 'salads', 'snacks-kid-friendly', 'irish-st-patricks-day', 'congolese', 'north-american', 'swedish', 'palestinian', 'szechuan', 'low-sodium', 'ontario', 'nepalese', 'cookies-and-brownies', 'brunch', 'australian', 'kosher', 'pasta-rice-and-grains', 'sweet', 'winter', 'cocktails', 'pumpkin', 'northeastern-united-states', 'diabetic', 'main-dish-pork', 'snacks-sweet', 'white-rice', 'non-alcoholic', 'crock-pot-slow-cooker', 'pot-roast', 'citrus', 'bread-machine', 'grilling', 'memorial-day', 'labor-day', 'taste-mood', 'medium-grain-rice', 'lettuces', 'turkish', 'halloween-cakes', 'beans-side-dishes', 'drop-cookies', 'dips-lunch-snacks', 'stews', 'dietary', 'ice-cream', 'korean', 'nut-free', 'dips-summer', 'main-dish-pasta', 'tarts', 'czech', 'low-protein', 'granola-and-porridge', 'stove-top', 'whole-chicken', 'guatemalan', 'heirloom-historical-recipes', 'beef', 'coconut', 'pork-loin', 'no-shell-fish', 'plums', 'beef-ribs', 'whole-turkey', 'fillings-and-frostings-chocolate', 'nigerian', 'lasagna', 'spanish', 'pheasant', 'romantic', 'biscotti', 'artichoke', 'desserts', 'long-grain-rice', 'jellies', 'low-fat', 'bananas', 'malaysian', 'spring', 'bass', 'pot-pie', 'cuban', 'hunan', 'mongolian', 'english', 'new-years', 'tropical-fruit', 'sauces', '1-day-or-more', 'one-dish-meal', 'salad-dressings', 'italian', 'infant-baby-friendly', 'smoothies', 'south-american', 'tex-mex', 'welsh', 'main-dish-seafood', 'rice', 'chicken-breasts', 'spreads', 'served-cold', 'high-protein', 'baked-beans', 'catfish', 'pasta-shells', 'crusts-pastry-dough-2', 'veggie-burgers', 'beef-liver', 'peppers', 'japanese', 'rosh-hashanah', 'easy', 'indonesian', 'microwave', 'chicken-crock-pot', 'cupcakes', 'lemon', 'meatballs', 'holiday-event', 'pickeral', 'laotian', 'namibian', 'shellfish', 'refrigerator', 'chick-peas-garbanzos', 'breakfast', 'main-dish-beef', 'zucchini', 'thai', 'unprocessed-freezer', 'scones', 'equipment', 'technique', 'beef-kidney', 'finger-food', 'yeast', 'polynesian', 'mothers-day', 'healthy-2', 'baja', 'steam', 'punch', 'barbecue', 'oamc-freezer-make-ahead', 'occasion', 'mushrooms', 'comfort-food', 'very-low-carbs', 'beef-sauces', 'cinco-de-mayo', 'lobster', 'small-appliance', 'burgers', 'moose', 'spinach', 'midwestern', 'squash', 'birthday', 'filipino', 'stews-poultry', 'course', 'time-to-make', 'hungarian', 'pies', 'chicken-stews', 'bear', 'rolls-biscuits', 'turkey', 'pressure-canning', 'southern-united-states', 'tuna', 'potatoes', 'steak', 'mardi-gras-carnival', 'cheesecake', 'asparagus', 'creole', 'rosh-hashana', 'shrimp', 'venezuelan', 'coffee-cakes', 'camping', 'gelatin', 'toddler-friendly', 'oven', 'healthy', 'pears', 'grains', 'beverages', 'cantonese', 'spaghetti-sauce', 'irish', 'iraqi', 'sudanese', 'iranian-persian', 'cambodian', 'saudi-arabian', 'micro-melanesia', 'dairy-free', 'hidden-valley-ranch', 'papaya', 'seasonal', 'side-dishes-beans', '3-steps-or-less', 'cakes', 'green-yellow-beans', 'pasta-elbow-macaroni', 'veal', 'potluck', 'christmas', 'breakfast-eggs', 'melons', 'danish', 'avocado', 'frozen-desserts', 'scandinavian', 'desserts-fruit', 'rabbit', 'turkey-breasts', 'sandwiches', 'stir-fry', 'oaxacan', 'ravioli-tortellini', 'lamb-sheep-main-dish', 'beijing', 'crab', 'beef-crock-pot', '30-minutes-or-less', 'ecuadorean', 'macaroni-and-cheese', 'manicotti', 'jewish-sephardi', 'casseroles', 'black-beans', 'south-african', 'sugar-cookies', 'cobblers-and-crisps', 'spicy', 'mexican', 'gluten-free', 'grapes', 'french', 'thanksgiving', 'savory-sauces', 'main-ingredient', 'high-in-something-diabetic-friendly', 'brown-bag', 'fruit', 'norwegian', 'corn', 'finnish', 'eggplant', 'black-bean-soup', 'pacific-northwest', 'swiss', 'hanukkah', 'sweet-sauces', 'breakfast-potatoes', 'wild-game', 'superbowl', 'inexpensive', 'vegetables', 'lunch', 'roast-beef-main-dish', 'oysters', 'low-saturated-fat', 'novelty', 'shakes', 'scallops', 'spaghetti', 'snacks', 'octopus', 'mussels', 'hand-formed-cookies', 'for-1-or-2', 'middle-eastern', 'british-columbian', 'cranberry-sauce', 'beef-barley-soup', 'moroccan', 'ethiopian', 'preparation', 'presentation', 'appetizers', 'onions', 'served-hot', 'short-grain-rice', 'beans', 'beef-sausage', 'bok-choys', 'gumbo', 'freezer', 'steaks', 'ham', 'vegetarian', 'american', 'strawberries', 'chocolate-chip-cookies', 'halloween', 'pork-loins', 'mashed-potatoes', 'cheese', 'vietnamese', 'food-processor-blender', 'ground-beef', 'quick-breads', 'peaches', 'libyan', 'ragu-recipe-contest', 'salmon', '15-minutes-or-less', 'independence-day', 'celebrity', 'high-calcium', 'chicken', 'prepared-potatoes', 'muffins', 'summer', 'low-in-something', 'scottish', 'south-west-pacific', 'puddings-and-mousses', 'served-hot-new-years', 'flat-shapes', 'pitted-fruit', 'broccoli', 'pasta-salad', 'african', 'oranges', 'lasagne', 'dinner-party', 'squid', 'valentines-day', 'main-dish-chicken', 'asian', 'honduran', 'brewing', 'saltwater-fish', 'less_thansql:name_topics_of_recipegreater_than', 'californian', 'low-calorie', 'halloween-cupcakes', 'curries', 'chilean', 'salsas', 'reynolds-wrap', 'herb-and-spice-mixes', 'chard', 'condiments-etc', 'pork-ribs', 'cajun', 'quebec', 'chicken-stew', 'lactose', 'fathers-day', 'st-patricks-day', 'portuguese', 'central-american', 'apples', 'pineapple', 'deep-fry', 'for-large-groups', 'broil', 'egg-free', 'chowders', 'meat', 'dutch', 'simply-potatoes2', 'chutneys', 'freshwater-fish', 'kwanzaa', 'austrian', 'pork-sausage', 'lamb-sheep', 'low-carb', 'elbow-macaroni', 'pizza', 'dips', 'bean-soup', 'breakfast-casseroles', 'nuts', 'canadian', 'pakistani', 'eggs-dairy', 'pennsylvania-dutch', 'soy-tofu', 'goose', 'canning', 'kiwifruit', 'for-large-groups-holiday-event', 'eggs-breakfast', 'leftovers', 'clear-soups', 'eggs', 'stocks', 'bacon', 'shrimp-main-dish', 'native-american', 'lime', 'peanut-butter', 'whitefish', 'easter', 'hawaiian', 'low-cholesterol', 'cake-fillings-and-frostings', 'belgian', '5-ingredients-or-less', 'no-cook', 'copycat', 'mahi-mahi', 'angolan', 'bisques-cream-soups', 'bread-pudding', 'chocolate', 'savory-pies', 'chinese', 'seafood', 'mushroom-soup', 'pork', 'polish', 'from-scratch', 'sole-and-flounder', 'amish-mennonite', 'cooking-mixes', 'smoker', 'halibut', 'clams', 'chinese-new-year', 'pork-chops', '60-minutes-or-less', 'breads', 'new-zealand', 'tomatoes', 'carrots', 'crawfish', 'quiche', 'passover', 'marinara-sauce', 'free-of-something', 'european', 'rolled-cookies', 'russian', 'simply-potatoes', 'roast', 'stuffings-dressings', 'collard-greens', 'gifts', 'soups-stews', 'super-bowl', 'yams-sweet-potatoes', 'argentine', 'greek', 'fish', 'duck-breasts', 'high-in-something', 'pressure-cooker', 'number-of-servings', 'weeknight', 'chicken-livers', 'chicken-thighs-legs', 'puerto-rican', 'tilapia', 'greens', 'pumpkin-bread', 'berries', 'poultry', 'sourdough', 'jams-and-preserves', 'roast-beef', 'garnishes', 'marinades-and-rubs', 'penne', 'college', 'pasta', 'pork-crock-pot', 'water-bath', 'lebanese', 'heirloom-historical', 'crock-pot-main-dish', 'german', 'deer', 'elk', 'beginner-cook', 'baking', 'orange-roughy', 'roast-beef-comfort-food', 'pancakes-and-waffles', 'jewish-ashkenazi', 'desserts-easy', 'trout', 'picnic', 'to-go', 'bar-cookies', 'ramadan', 'egyptian', 'a1-sauce', 'meatloaf', 'main-dish', 'pork-loins-roast', 'cherries', 'wings', 'halloween-cocktails', 'indian', 'lentils', 'raspberries', '4-hours-or-less', 'perch', 'dehydrator', 'brownies', 'kid-friendly', 'fudge', 'brown-rice', 'costa-rican'}\n"
     ]
    }
   ],
   "source": [
    "import re\n",
    "\n",
    "all_tags = set()\n",
    "\n",
    "for tag_row in df['tags']:\n",
    "    tag_row = re.sub(r'\\[', r'', tag_row)\n",
    "    tag_row = re.sub(r'\\]', r'', tag_row)\n",
    "    for t in tag_row.split(\",\"):\n",
    "        t = re.sub(r'\\s', r'', t)\n",
    "        t = re.sub(r'\\'', r'', t)\n",
    "        all_tags.add(t)\n",
    "\n",
    "if '' in all_tags:\n",
    "    all_tags.remove('')\n",
    "if 'ThrowtheultimatefiestawiththissopaipillasrecipefromFood.com.' in all_tags:\n",
    "    all_tags.remove('ThrowtheultimatefiestawiththissopaipillasrecipefromFood.com.')\n",
    "print(all_tags)"
   ]
  },
  {
   "cell_type": "code",
   "execution_count": 53,
   "metadata": {},
   "outputs": [],
   "source": [
    "tag_to_id = {}\n",
    "i = 0\n",
    "for t in all_tags:\n",
    "    tag_to_id[t] = i\n",
    "    i += 1"
   ]
  },
  {
   "cell_type": "code",
   "execution_count": 54,
   "metadata": {},
   "outputs": [],
   "source": [
    "id_tag_arr = []\n",
    "for t, id in tag_to_id.items():\n",
    "    id_tag_arr.append([id, t])"
   ]
  },
  {
   "cell_type": "code",
   "execution_count": 55,
   "metadata": {},
   "outputs": [
    {
     "data": {
      "text/html": [
       "<div>\n",
       "<style scoped>\n",
       "    .dataframe tbody tr th:only-of-type {\n",
       "        vertical-align: middle;\n",
       "    }\n",
       "\n",
       "    .dataframe tbody tr th {\n",
       "        vertical-align: top;\n",
       "    }\n",
       "\n",
       "    .dataframe thead th {\n",
       "        text-align: right;\n",
       "    }\n",
       "</style>\n",
       "<table border=\"1\" class=\"dataframe\">\n",
       "  <thead>\n",
       "    <tr style=\"text-align: right;\">\n",
       "      <th></th>\n",
       "      <th>id</th>\n",
       "      <th>description</th>\n",
       "    </tr>\n",
       "  </thead>\n",
       "  <tbody>\n",
       "    <tr>\n",
       "      <th>0</th>\n",
       "      <td>0</td>\n",
       "      <td>colombian</td>\n",
       "    </tr>\n",
       "    <tr>\n",
       "      <th>1</th>\n",
       "      <td>1</td>\n",
       "      <td>southwestern-united-states</td>\n",
       "    </tr>\n",
       "    <tr>\n",
       "      <th>2</th>\n",
       "      <td>2</td>\n",
       "      <td>cuisine</td>\n",
       "    </tr>\n",
       "    <tr>\n",
       "      <th>3</th>\n",
       "      <td>3</td>\n",
       "      <td>wedding</td>\n",
       "    </tr>\n",
       "    <tr>\n",
       "      <th>4</th>\n",
       "      <td>4</td>\n",
       "      <td>somalian</td>\n",
       "    </tr>\n",
       "    <tr>\n",
       "      <th>...</th>\n",
       "      <td>...</td>\n",
       "      <td>...</td>\n",
       "    </tr>\n",
       "    <tr>\n",
       "      <th>545</th>\n",
       "      <td>545</td>\n",
       "      <td>brownies</td>\n",
       "    </tr>\n",
       "    <tr>\n",
       "      <th>546</th>\n",
       "      <td>546</td>\n",
       "      <td>kid-friendly</td>\n",
       "    </tr>\n",
       "    <tr>\n",
       "      <th>547</th>\n",
       "      <td>547</td>\n",
       "      <td>fudge</td>\n",
       "    </tr>\n",
       "    <tr>\n",
       "      <th>548</th>\n",
       "      <td>548</td>\n",
       "      <td>brown-rice</td>\n",
       "    </tr>\n",
       "    <tr>\n",
       "      <th>549</th>\n",
       "      <td>549</td>\n",
       "      <td>costa-rican</td>\n",
       "    </tr>\n",
       "  </tbody>\n",
       "</table>\n",
       "<p>550 rows × 2 columns</p>\n",
       "</div>"
      ],
      "text/plain": [
       "      id                 description\n",
       "0      0                   colombian\n",
       "1      1  southwestern-united-states\n",
       "2      2                     cuisine\n",
       "3      3                     wedding\n",
       "4      4                    somalian\n",
       "..   ...                         ...\n",
       "545  545                    brownies\n",
       "546  546                kid-friendly\n",
       "547  547                       fudge\n",
       "548  548                  brown-rice\n",
       "549  549                 costa-rican\n",
       "\n",
       "[550 rows x 2 columns]"
      ]
     },
     "execution_count": 55,
     "metadata": {},
     "output_type": "execute_result"
    }
   ],
   "source": [
    "tag_df = pd.DataFrame(\n",
    "    data=id_tag_arr,\n",
    "    columns=[\"id\", \"description\"]\n",
    ") \n",
    "tag_df"
   ]
  },
  {
   "cell_type": "code",
   "execution_count": 56,
   "metadata": {},
   "outputs": [],
   "source": [
    "tag_df.to_csv('CLEAN_tags.csv', index=False, header=False)"
   ]
  },
  {
   "cell_type": "code",
   "execution_count": 57,
   "metadata": {},
   "outputs": [],
   "source": [
    "recipe_and_id_arr = []\n",
    "for _, row in df.iterrows():\n",
    "    tag_row = row['tags']\n",
    "    id = row['id']\n",
    "    tag_row = re.sub(r'\\[', r'', tag_row)\n",
    "    tag_row = re.sub(r'\\]', r'', tag_row)\n",
    "    for t in tag_row.split(\",\"):\n",
    "        t = re.sub(r'\\s', r'', t)\n",
    "        t = re.sub(r'\\'', r'', t)\n",
    "        if t != '' and t != 'ThrowtheultimatefiestawiththissopaipillasrecipefromFood.com.':\n",
    "            recipe_and_id_arr.append([id, tag_to_id[t]])"
   ]
  },
  {
   "cell_type": "code",
   "execution_count": 58,
   "metadata": {},
   "outputs": [
    {
     "data": {
      "text/html": [
       "<div>\n",
       "<style scoped>\n",
       "    .dataframe tbody tr th:only-of-type {\n",
       "        vertical-align: middle;\n",
       "    }\n",
       "\n",
       "    .dataframe tbody tr th {\n",
       "        vertical-align: top;\n",
       "    }\n",
       "\n",
       "    .dataframe thead th {\n",
       "        text-align: right;\n",
       "    }\n",
       "</style>\n",
       "<table border=\"1\" class=\"dataframe\">\n",
       "  <thead>\n",
       "    <tr style=\"text-align: right;\">\n",
       "      <th></th>\n",
       "      <th>recipe_id</th>\n",
       "      <th>tag_id</th>\n",
       "    </tr>\n",
       "  </thead>\n",
       "  <tbody>\n",
       "    <tr>\n",
       "      <th>0</th>\n",
       "      <td>137739</td>\n",
       "      <td>466</td>\n",
       "    </tr>\n",
       "    <tr>\n",
       "      <th>1</th>\n",
       "      <td>137739</td>\n",
       "      <td>198</td>\n",
       "    </tr>\n",
       "    <tr>\n",
       "      <th>2</th>\n",
       "      <td>137739</td>\n",
       "      <td>197</td>\n",
       "    </tr>\n",
       "    <tr>\n",
       "      <th>3</th>\n",
       "      <td>137739</td>\n",
       "      <td>281</td>\n",
       "    </tr>\n",
       "    <tr>\n",
       "      <th>4</th>\n",
       "      <td>137739</td>\n",
       "      <td>2</td>\n",
       "    </tr>\n",
       "    <tr>\n",
       "      <th>...</th>\n",
       "      <td>...</td>\n",
       "      <td>...</td>\n",
       "    </tr>\n",
       "    <tr>\n",
       "      <th>4141573</th>\n",
       "      <td>298509</td>\n",
       "      <td>79</td>\n",
       "    </tr>\n",
       "    <tr>\n",
       "      <th>4141574</th>\n",
       "      <td>298509</td>\n",
       "      <td>183</td>\n",
       "    </tr>\n",
       "    <tr>\n",
       "      <th>4141575</th>\n",
       "      <td>298509</td>\n",
       "      <td>70</td>\n",
       "    </tr>\n",
       "    <tr>\n",
       "      <th>4141576</th>\n",
       "      <td>298509</td>\n",
       "      <td>53</td>\n",
       "    </tr>\n",
       "    <tr>\n",
       "      <th>4141577</th>\n",
       "      <td>298509</td>\n",
       "      <td>493</td>\n",
       "    </tr>\n",
       "  </tbody>\n",
       "</table>\n",
       "<p>4141578 rows × 2 columns</p>\n",
       "</div>"
      ],
      "text/plain": [
       "         recipe_id  tag_id\n",
       "0           137739     466\n",
       "1           137739     198\n",
       "2           137739     197\n",
       "3           137739     281\n",
       "4           137739       2\n",
       "...            ...     ...\n",
       "4141573     298509      79\n",
       "4141574     298509     183\n",
       "4141575     298509      70\n",
       "4141576     298509      53\n",
       "4141577     298509     493\n",
       "\n",
       "[4141578 rows x 2 columns]"
      ]
     },
     "execution_count": 58,
     "metadata": {},
     "output_type": "execute_result"
    }
   ],
   "source": [
    "clean_recipe_tag_df = pd.DataFrame(\n",
    "    data=recipe_and_id_arr,\n",
    "    columns=['recipe_id', 'tag_id']\n",
    ")\n",
    "clean_recipe_tag_df"
   ]
  },
  {
   "cell_type": "code",
   "execution_count": 60,
   "metadata": {},
   "outputs": [],
   "source": [
    "clean_recipe_tag_df.to_csv('CLEAN_recipe_tag_ids.csv', index=False, header=False)"
   ]
  }
 ],
 "metadata": {
  "kernelspec": {
   "display_name": "Python 3",
   "language": "python",
   "name": "python3"
  },
  "language_info": {
   "codemirror_mode": {
    "name": "ipython",
    "version": 3
   },
   "file_extension": ".py",
   "mimetype": "text/x-python",
   "name": "python",
   "nbconvert_exporter": "python",
   "pygments_lexer": "ipython3",
   "version": "3.10.7"
  }
 },
 "nbformat": 4,
 "nbformat_minor": 2
}
